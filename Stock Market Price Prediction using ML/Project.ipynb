{
 "cells": [
  {
   "cell_type": "markdown",
   "metadata": {
    "id": "oaDkQ1ol9QnY"
   },
   "source": [
    "### Stock Market Prediction And Forecasting Using Stacked LSTM"
   ]
  },
  {
   "cell_type": "code",
   "execution_count": 1,
   "metadata": {
    "id": "d3gMaKUR9Qnf"
   },
   "outputs": [],
   "source": [
    "import pandas_datareader as pdr\n",
    "import pandas as pd\n",
    "import matplotlib.pyplot as plt\n",
    "import numpy as np"
   ]
  },
  {
   "cell_type": "code",
   "execution_count": 2,
   "metadata": {
    "colab": {
     "base_uri": "https://localhost:8080/"
    },
    "id": "rQuWWNPg9Qnh",
    "outputId": "e23f69df-36eb-45ef-e168-b4f7d20f2259"
   },
   "outputs": [
    {
     "name": "stderr",
     "output_type": "stream",
     "text": [
      "/usr/local/lib/python3.7/dist-packages/pandas_datareader/tiingo.py:234: FutureWarning: In a future version of pandas all arguments of concat except for the argument 'objs' will be keyword-only\n",
      "  return pd.concat(dfs, self._concat_axis)\n"
     ]
    }
   ],
   "source": [
    "df = pdr.get_data_tiingo('QQQ', api_key='6cbca726c5a80908ade0f47c65ec52fe126c0be4')"
   ]
  },
  {
   "cell_type": "code",
   "execution_count": 3,
   "metadata": {
    "id": "o0Dg89nN9Qni"
   },
   "outputs": [],
   "source": [
    "df.to_csv('AAPL.csv')"
   ]
  },
  {
   "cell_type": "code",
   "execution_count": 4,
   "metadata": {
    "id": "vf9xfM7s9Qnj"
   },
   "outputs": [],
   "source": [
    "df=pd.read_csv('AAPL.csv')"
   ]
  },
  {
   "cell_type": "code",
   "execution_count": 5,
   "metadata": {
    "colab": {
     "base_uri": "https://localhost:8080/",
     "height": 206
    },
    "id": "NIukbrkc9Qnl",
    "outputId": "a6d5b54f-960e-493c-e711-01e4166aa484"
   },
   "outputs": [
    {
     "data": {
      "text/html": [
       "\n",
       "  <div id=\"df-771bc6c1-9d33-480d-82a5-bfd19b483b50\">\n",
       "    <div class=\"colab-df-container\">\n",
       "      <div>\n",
       "<style scoped>\n",
       "    .dataframe tbody tr th:only-of-type {\n",
       "        vertical-align: middle;\n",
       "    }\n",
       "\n",
       "    .dataframe tbody tr th {\n",
       "        vertical-align: top;\n",
       "    }\n",
       "\n",
       "    .dataframe thead th {\n",
       "        text-align: right;\n",
       "    }\n",
       "</style>\n",
       "<table border=\"1\" class=\"dataframe\">\n",
       "  <thead>\n",
       "    <tr style=\"text-align: right;\">\n",
       "      <th></th>\n",
       "      <th>symbol</th>\n",
       "      <th>date</th>\n",
       "      <th>close</th>\n",
       "      <th>high</th>\n",
       "      <th>low</th>\n",
       "      <th>open</th>\n",
       "      <th>volume</th>\n",
       "      <th>adjClose</th>\n",
       "      <th>adjHigh</th>\n",
       "      <th>adjLow</th>\n",
       "      <th>adjOpen</th>\n",
       "      <th>adjVolume</th>\n",
       "      <th>divCash</th>\n",
       "      <th>splitFactor</th>\n",
       "    </tr>\n",
       "  </thead>\n",
       "  <tbody>\n",
       "    <tr>\n",
       "      <th>0</th>\n",
       "      <td>QQQ</td>\n",
       "      <td>2017-05-12 00:00:00+00:00</td>\n",
       "      <td>138.60</td>\n",
       "      <td>138.63</td>\n",
       "      <td>138.23</td>\n",
       "      <td>138.37</td>\n",
       "      <td>19738629</td>\n",
       "      <td>133.583240</td>\n",
       "      <td>133.612154</td>\n",
       "      <td>133.226632</td>\n",
       "      <td>133.361565</td>\n",
       "      <td>19738629</td>\n",
       "      <td>0.0</td>\n",
       "      <td>1.0</td>\n",
       "    </tr>\n",
       "    <tr>\n",
       "      <th>1</th>\n",
       "      <td>QQQ</td>\n",
       "      <td>2017-05-15 00:00:00+00:00</td>\n",
       "      <td>139.04</td>\n",
       "      <td>139.12</td>\n",
       "      <td>138.53</td>\n",
       "      <td>138.63</td>\n",
       "      <td>20481327</td>\n",
       "      <td>134.007314</td>\n",
       "      <td>134.084418</td>\n",
       "      <td>133.515773</td>\n",
       "      <td>133.612154</td>\n",
       "      <td>20481327</td>\n",
       "      <td>0.0</td>\n",
       "      <td>1.0</td>\n",
       "    </tr>\n",
       "    <tr>\n",
       "      <th>2</th>\n",
       "      <td>QQQ</td>\n",
       "      <td>2017-05-16 00:00:00+00:00</td>\n",
       "      <td>139.62</td>\n",
       "      <td>139.64</td>\n",
       "      <td>138.99</td>\n",
       "      <td>139.36</td>\n",
       "      <td>21785994</td>\n",
       "      <td>134.566320</td>\n",
       "      <td>134.585596</td>\n",
       "      <td>133.959123</td>\n",
       "      <td>134.315731</td>\n",
       "      <td>21785994</td>\n",
       "      <td>0.0</td>\n",
       "      <td>1.0</td>\n",
       "    </tr>\n",
       "    <tr>\n",
       "      <th>3</th>\n",
       "      <td>QQQ</td>\n",
       "      <td>2017-05-17 00:00:00+00:00</td>\n",
       "      <td>136.07</td>\n",
       "      <td>138.77</td>\n",
       "      <td>136.05</td>\n",
       "      <td>138.55</td>\n",
       "      <td>55642178</td>\n",
       "      <td>131.144816</td>\n",
       "      <td>133.747086</td>\n",
       "      <td>131.125539</td>\n",
       "      <td>133.535050</td>\n",
       "      <td>55642178</td>\n",
       "      <td>0.0</td>\n",
       "      <td>1.0</td>\n",
       "    </tr>\n",
       "    <tr>\n",
       "      <th>4</th>\n",
       "      <td>QQQ</td>\n",
       "      <td>2017-05-18 00:00:00+00:00</td>\n",
       "      <td>137.26</td>\n",
       "      <td>137.72</td>\n",
       "      <td>135.87</td>\n",
       "      <td>136.06</td>\n",
       "      <td>41319882</td>\n",
       "      <td>132.291742</td>\n",
       "      <td>132.735092</td>\n",
       "      <td>130.952055</td>\n",
       "      <td>131.135177</td>\n",
       "      <td>41319882</td>\n",
       "      <td>0.0</td>\n",
       "      <td>1.0</td>\n",
       "    </tr>\n",
       "  </tbody>\n",
       "</table>\n",
       "</div>\n",
       "      <button class=\"colab-df-convert\" onclick=\"convertToInteractive('df-771bc6c1-9d33-480d-82a5-bfd19b483b50')\"\n",
       "              title=\"Convert this dataframe to an interactive table.\"\n",
       "              style=\"display:none;\">\n",
       "        \n",
       "  <svg xmlns=\"http://www.w3.org/2000/svg\" height=\"24px\"viewBox=\"0 0 24 24\"\n",
       "       width=\"24px\">\n",
       "    <path d=\"M0 0h24v24H0V0z\" fill=\"none\"/>\n",
       "    <path d=\"M18.56 5.44l.94 2.06.94-2.06 2.06-.94-2.06-.94-.94-2.06-.94 2.06-2.06.94zm-11 1L8.5 8.5l.94-2.06 2.06-.94-2.06-.94L8.5 2.5l-.94 2.06-2.06.94zm10 10l.94 2.06.94-2.06 2.06-.94-2.06-.94-.94-2.06-.94 2.06-2.06.94z\"/><path d=\"M17.41 7.96l-1.37-1.37c-.4-.4-.92-.59-1.43-.59-.52 0-1.04.2-1.43.59L10.3 9.45l-7.72 7.72c-.78.78-.78 2.05 0 2.83L4 21.41c.39.39.9.59 1.41.59.51 0 1.02-.2 1.41-.59l7.78-7.78 2.81-2.81c.8-.78.8-2.07 0-2.86zM5.41 20L4 18.59l7.72-7.72 1.47 1.35L5.41 20z\"/>\n",
       "  </svg>\n",
       "      </button>\n",
       "      \n",
       "  <style>\n",
       "    .colab-df-container {\n",
       "      display:flex;\n",
       "      flex-wrap:wrap;\n",
       "      gap: 12px;\n",
       "    }\n",
       "\n",
       "    .colab-df-convert {\n",
       "      background-color: #E8F0FE;\n",
       "      border: none;\n",
       "      border-radius: 50%;\n",
       "      cursor: pointer;\n",
       "      display: none;\n",
       "      fill: #1967D2;\n",
       "      height: 32px;\n",
       "      padding: 0 0 0 0;\n",
       "      width: 32px;\n",
       "    }\n",
       "\n",
       "    .colab-df-convert:hover {\n",
       "      background-color: #E2EBFA;\n",
       "      box-shadow: 0px 1px 2px rgba(60, 64, 67, 0.3), 0px 1px 3px 1px rgba(60, 64, 67, 0.15);\n",
       "      fill: #174EA6;\n",
       "    }\n",
       "\n",
       "    [theme=dark] .colab-df-convert {\n",
       "      background-color: #3B4455;\n",
       "      fill: #D2E3FC;\n",
       "    }\n",
       "\n",
       "    [theme=dark] .colab-df-convert:hover {\n",
       "      background-color: #434B5C;\n",
       "      box-shadow: 0px 1px 3px 1px rgba(0, 0, 0, 0.15);\n",
       "      filter: drop-shadow(0px 1px 2px rgba(0, 0, 0, 0.3));\n",
       "      fill: #FFFFFF;\n",
       "    }\n",
       "  </style>\n",
       "\n",
       "      <script>\n",
       "        const buttonEl =\n",
       "          document.querySelector('#df-771bc6c1-9d33-480d-82a5-bfd19b483b50 button.colab-df-convert');\n",
       "        buttonEl.style.display =\n",
       "          google.colab.kernel.accessAllowed ? 'block' : 'none';\n",
       "\n",
       "        async function convertToInteractive(key) {\n",
       "          const element = document.querySelector('#df-771bc6c1-9d33-480d-82a5-bfd19b483b50');\n",
       "          const dataTable =\n",
       "            await google.colab.kernel.invokeFunction('convertToInteractive',\n",
       "                                                     [key], {});\n",
       "          if (!dataTable) return;\n",
       "\n",
       "          const docLinkHtml = 'Like what you see? Visit the ' +\n",
       "            '<a target=\"_blank\" href=https://colab.research.google.com/notebooks/data_table.ipynb>data table notebook</a>'\n",
       "            + ' to learn more about interactive tables.';\n",
       "          element.innerHTML = '';\n",
       "          dataTable['output_type'] = 'display_data';\n",
       "          await google.colab.output.renderOutput(dataTable, element);\n",
       "          const docLink = document.createElement('div');\n",
       "          docLink.innerHTML = docLinkHtml;\n",
       "          element.appendChild(docLink);\n",
       "        }\n",
       "      </script>\n",
       "    </div>\n",
       "  </div>\n",
       "  "
      ],
      "text/plain": [
       "  symbol                       date   close    high     low    open    volume  \\\n",
       "0    QQQ  2017-05-12 00:00:00+00:00  138.60  138.63  138.23  138.37  19738629   \n",
       "1    QQQ  2017-05-15 00:00:00+00:00  139.04  139.12  138.53  138.63  20481327   \n",
       "2    QQQ  2017-05-16 00:00:00+00:00  139.62  139.64  138.99  139.36  21785994   \n",
       "3    QQQ  2017-05-17 00:00:00+00:00  136.07  138.77  136.05  138.55  55642178   \n",
       "4    QQQ  2017-05-18 00:00:00+00:00  137.26  137.72  135.87  136.06  41319882   \n",
       "\n",
       "     adjClose     adjHigh      adjLow     adjOpen  adjVolume  divCash  \\\n",
       "0  133.583240  133.612154  133.226632  133.361565   19738629      0.0   \n",
       "1  134.007314  134.084418  133.515773  133.612154   20481327      0.0   \n",
       "2  134.566320  134.585596  133.959123  134.315731   21785994      0.0   \n",
       "3  131.144816  133.747086  131.125539  133.535050   55642178      0.0   \n",
       "4  132.291742  132.735092  130.952055  131.135177   41319882      0.0   \n",
       "\n",
       "   splitFactor  \n",
       "0          1.0  \n",
       "1          1.0  \n",
       "2          1.0  \n",
       "3          1.0  \n",
       "4          1.0  "
      ]
     },
     "execution_count": 5,
     "metadata": {},
     "output_type": "execute_result"
    }
   ],
   "source": [
    "df.head()"
   ]
  },
  {
   "cell_type": "code",
   "execution_count": 6,
   "metadata": {
    "colab": {
     "base_uri": "https://localhost:8080/"
    },
    "id": "r2NFVsBb9Qno",
    "outputId": "dbce3842-c00a-438b-8946-349a0d9b1cb9"
   },
   "outputs": [
    {
     "data": {
      "text/plain": [
       "(1258, 14)"
      ]
     },
     "execution_count": 6,
     "metadata": {},
     "output_type": "execute_result"
    }
   ],
   "source": [
    "df.shape"
   ]
  },
  {
   "cell_type": "code",
   "execution_count": 7,
   "metadata": {
    "id": "G14fARUi9Qnp"
   },
   "outputs": [],
   "source": [
    "df1=df['close'] "
   ]
  },
  {
   "cell_type": "code",
   "execution_count": 8,
   "metadata": {
    "colab": {
     "base_uri": "https://localhost:8080/"
    },
    "id": "hGeOZJ6h9Qnq",
    "outputId": "ff05d1af-cf9e-4737-fd92-ba6d797367df",
    "scrolled": true
   },
   "outputs": [
    {
     "data": {
      "text/plain": [
       "0       138.60\n",
       "1       139.04\n",
       "2       139.62\n",
       "3       136.07\n",
       "4       137.26\n",
       "         ...  \n",
       "1253    329.60\n",
       "1254    313.00\n",
       "1255    309.25\n",
       "1256    297.15\n",
       "1257    300.76\n",
       "Name: close, Length: 1258, dtype: float64"
      ]
     },
     "execution_count": 8,
     "metadata": {},
     "output_type": "execute_result"
    }
   ],
   "source": [
    "df1"
   ]
  },
  {
   "cell_type": "code",
   "execution_count": 9,
   "metadata": {
    "colab": {
     "base_uri": "https://localhost:8080/",
     "height": 296
    },
    "id": "VpaOE9uk9Qn0",
    "outputId": "d50f8388-15ff-45dd-852a-e7bf8366db06"
   },
   "outputs": [
    {
     "data": {
      "text/plain": [
       "Text(0, 0.5, 'Closing Price')"
      ]
     },
     "execution_count": 9,
     "metadata": {},
     "output_type": "execute_result"
    },
    {
     "data": {
      "image/png": "[encoded data removed]",
      "text/plain": [
       "<Figure size 432x288 with 1 Axes>"
      ]
     },
     "metadata": {
      "needs_background": "light"
     },
     "output_type": "display_data"
    }
   ],
   "source": [
    "plt.plot(df1)\n",
    "plt.xlabel('Index')\n",
    "plt.ylabel('Closing Price')"
   ]
  },
  {
   "cell_type": "code",
   "execution_count": 10,
   "metadata": {
    "id": "dRQbxTIc9Qn2"
   },
   "outputs": [],
   "source": [
    "# LSTM are sensitive to the scale of the data. so we apply MinMax scaler "
   ]
  },
  {
   "cell_type": "code",
   "execution_count": 11,
   "metadata": {
    "id": "3_qJsAhY9Qn5"
   },
   "outputs": [],
   "source": [
    "from sklearn.preprocessing import MinMaxScaler\n",
    "scaler=MinMaxScaler(feature_range=(0,1))\n",
    "df1=scaler.fit_transform(np.array(df1).reshape(-1,1))"
   ]
  },
  {
   "cell_type": "code",
   "execution_count": 12,
   "metadata": {
    "colab": {
     "base_uri": "https://localhost:8080/"
    },
    "id": "BCgfS3Le9Qn6",
    "outputId": "4757f36a-5e52-46ef-e19d-b6ca2e929727"
   },
   "outputs": [
    {
     "data": {
      "text/plain": [
       "(1258, 1)"
      ]
     },
     "execution_count": 12,
     "metadata": {},
     "output_type": "execute_result"
    }
   ],
   "source": [
    "df1.shape"
   ]
  },
  {
   "cell_type": "code",
   "execution_count": 13,
   "metadata": {
    "id": "vYjcZvG59Qn8"
   },
   "outputs": [],
   "source": [
    "# Splitting dataset into train and test split\n",
    "training_size=int(len(df1)*0.67)\n",
    "test_size=len(df1)-training_size\n",
    "train_data,test_data=df1[0:training_size,:],df1[training_size:len(df1),:1]"
   ]
  },
  {
   "cell_type": "code",
   "execution_count": 14,
   "metadata": {
    "colab": {
     "base_uri": "https://localhost:8080/"
    },
    "id": "SzPphlBH9Qn9",
    "outputId": "7ed82610-1791-47fd-bc97-5f3eb33f9a6d"
   },
   "outputs": [
    {
     "data": {
      "text/plain": [
       "(842, 416)"
      ]
     },
     "execution_count": 14,
     "metadata": {},
     "output_type": "execute_result"
    }
   ],
   "source": [
    "training_size,test_size"
   ]
  },
  {
   "cell_type": "code",
   "execution_count": 15,
   "metadata": {
    "id": "-Ut17GOb9Qn_"
   },
   "outputs": [],
   "source": [
    "# convert an array of values into a dataset matrix i.e time series data into supervised learning data\n",
    "def create_dataset(dataset, time_step=1):\n",
    "\tdataX, dataY = [], []\n",
    "\tfor i in range(len(dataset)-time_step-1):\n",
    "\t\ta = dataset[i:(i+time_step)]   # i=0, 0,1,2,3-----99   100 \n",
    "\t\tdataX.append(a)\n",
    "\t\tdataY.append(dataset[i + time_step])\n",
    "\treturn np.array(dataX), np.array(dataY)"
   ]
  },
  {
   "cell_type": "code",
   "execution_count": 16,
   "metadata": {
    "id": "BwByXZ0w9QoB"
   },
   "outputs": [],
   "source": [
    "# reshape into X=t,t+1,t+2,t+3 and Y=t+4\n",
    "time_step = 100\n",
    "X_train, y_train = create_dataset(train_data, time_step)\n",
    "X_test, ytest = create_dataset(test_data, time_step)"
   ]
  },
  {
   "cell_type": "code",
   "execution_count": 17,
   "metadata": {
    "colab": {
     "base_uri": "https://localhost:8080/"
    },
    "id": "KZJvG-Xj9QoC",
    "outputId": "ec0ff22d-077e-40e1-e4ed-e64145b0dd17"
   },
   "outputs": [
    {
     "name": "stdout",
     "output_type": "stream",
     "text": [
      "(741, 100, 1)\n",
      "(741, 1)\n"
     ]
    }
   ],
   "source": [
    "print(X_train.shape) \n",
    "print(y_train.shape)"
   ]
  },
  {
   "cell_type": "code",
   "execution_count": 18,
   "metadata": {
    "colab": {
     "base_uri": "https://localhost:8080/"
    },
    "id": "KAQ40lVq9QoD",
    "outputId": "d17ccfde-5950-4fae-aba3-84cc4f11614b"
   },
   "outputs": [
    {
     "name": "stdout",
     "output_type": "stream",
     "text": [
      "(315, 100, 1)\n",
      "(315, 1)\n"
     ]
    }
   ],
   "source": [
    "print(X_test.shape)\n",
    "print(ytest.shape)"
   ]
  },
  {
   "cell_type": "code",
   "execution_count": 19,
   "metadata": {
    "id": "YAY7C6kx9QoF"
   },
   "outputs": [],
   "source": [
    "# Input in the form [samples, time steps, features] which is required for LSTM"
   ]
  },
  {
   "cell_type": "code",
   "execution_count": 20,
   "metadata": {
    "colab": {
     "base_uri": "https://localhost:8080/"
    },
    "id": "x063_MuY7E0x",
    "outputId": "b3f8f6f5-21a1-40cb-d4f7-bba885ec66d2"
   },
   "outputs": [
    {
     "name": "stdout",
     "output_type": "stream",
     "text": [
      "(741, 100, 1)\n",
      "(315, 100, 1)\n"
     ]
    }
   ],
   "source": [
    "print(X_train.shape)\n",
    "print(X_test.shape)"
   ]
  },
  {
   "cell_type": "code",
   "execution_count": 21,
   "metadata": {
    "id": "2qC7uJDM9QoF"
   },
   "outputs": [],
   "source": [
    "# Create the Stacked LSTM model\n",
    "from tensorflow.keras.models import Sequential\n",
    "from tensorflow.keras.layers import Dense\n",
    "from tensorflow.keras.layers import LSTM"
   ]
  },
  {
   "cell_type": "code",
   "execution_count": 22,
   "metadata": {
    "id": "2BU2U79z9QoG"
   },
   "outputs": [],
   "source": [
    "model=Sequential()\n",
    "model.add(LSTM(50,return_sequences=True,input_shape=(100,1))) # It expects to know the shape of inputs\n",
    "model.add(LSTM(50,return_sequences=True))\n",
    "model.add(LSTM(50))\n",
    "model.add(Dense(1))\n",
    "model.compile(loss='mean_squared_error',optimizer='adam')\n"
   ]
  },
  {
   "cell_type": "code",
   "execution_count": 23,
   "metadata": {
    "colab": {
     "base_uri": "https://localhost:8080/"
    },
    "id": "-bAHbmQW9QoH",
    "outputId": "02ad1e26-a9e3-4edc-f13a-abe0532b5eac"
   },
   "outputs": [
    {
     "name": "stdout",
     "output_type": "stream",
     "text": [
      "Model: \"sequential\"\n",
      "_________________________________________________________________\n",
      " Layer (type)                Output Shape              Param #   \n",
      "=================================================================\n",
      " lstm (LSTM)                 (None, 100, 50)           10400     \n",
      "                                                                 \n",
      " lstm_1 (LSTM)               (None, 100, 50)           20200     \n",
      "                                                                 \n",
      " lstm_2 (LSTM)               (None, 50)                20200     \n",
      "                                                                 \n",
      " dense (Dense)               (None, 1)                 51        \n",
      "                                                                 \n",
      "=================================================================\n",
      "Total params: 50,851\n",
      "Trainable params: 50,851\n",
      "Non-trainable params: 0\n",
      "_________________________________________________________________\n"
     ]
    }
   ],
   "source": [
    "model.summary()"
   ]
  },
  {
   "cell_type": "code",
   "execution_count": null,
   "metadata": {
    "id": "YGI0VNSh9QoJ"
   },
   "outputs": [],
   "source": [
    "model.fit(X_train,y_train,validation_data=(X_test,ytest),epochs=100,batch_size=64,verbose=2)"
   ]
  },
  {
   "cell_type": "code",
   "execution_count": 25,
   "metadata": {
    "id": "aKybRWL89QoK"
   },
   "outputs": [],
   "source": [
    "import tensorflow as tf"
   ]
  },
  {
   "cell_type": "code",
   "execution_count": 26,
   "metadata": {
    "id": "MAXlGN8V9QoL"
   },
   "outputs": [],
   "source": [
    "# Lets Do the prediction and check performance metrics\n",
    "train_predict=model.predict(X_train)\n",
    "test_predict=model.predict(X_test)"
   ]
  },
  {
   "cell_type": "code",
   "execution_count": 27,
   "metadata": {
    "id": "U5khPWCd9QoM"
   },
   "outputs": [],
   "source": [
    "# Transform back to original form\n",
    "train_predict=scaler.inverse_transform(train_predict)\n",
    "test_predict=scaler.inverse_transform(test_predict)"
   ]
  },
  {
   "cell_type": "code",
   "execution_count": 28,
   "metadata": {
    "colab": {
     "base_uri": "https://localhost:8080/"
    },
    "id": "CgmfJjSq813C",
    "outputId": "ffe17360-f411-4465-8ae5-39810641fe23"
   },
   "outputs": [
    {
     "data": {
      "text/plain": [
       "(741, 1)"
      ]
     },
     "execution_count": 28,
     "metadata": {},
     "output_type": "execute_result"
    }
   ],
   "source": [
    "train_predict.shape"
   ]
  },
  {
   "cell_type": "code",
   "execution_count": 29,
   "metadata": {
    "colab": {
     "base_uri": "https://localhost:8080/"
    },
    "id": "2Ubsh_M185q2",
    "outputId": "e0edd301-1f3a-4826-d3bf-9139424c092d"
   },
   "outputs": [
    {
     "data": {
      "text/plain": [
       "(315, 1)"
      ]
     },
     "execution_count": 29,
     "metadata": {},
     "output_type": "execute_result"
    }
   ],
   "source": [
    "test_predict.shape"
   ]
  },
  {
   "cell_type": "code",
   "execution_count": 30,
   "metadata": {
    "colab": {
     "base_uri": "https://localhost:8080/"
    },
    "id": "Q8nVnrLw9QoN",
    "outputId": "2bcf9a73-3730-484b-d34c-7352f820dd62"
   },
   "outputs": [
    {
     "data": {
      "text/plain": [
       "192.58719857545867"
      ]
     },
     "execution_count": 30,
     "metadata": {},
     "output_type": "execute_result"
    }
   ],
   "source": [
    "# Calculate RMSE performance metrics\n",
    "import math\n",
    "from sklearn.metrics import mean_squared_error\n",
    "math.sqrt(mean_squared_error(y_train,train_predict))"
   ]
  },
  {
   "cell_type": "code",
   "execution_count": 31,
   "metadata": {
    "colab": {
     "base_uri": "https://localhost:8080/"
    },
    "id": "BF43yah69QoO",
    "outputId": "e518786c-e03c-40a9-c196-26c0a6110b04"
   },
   "outputs": [
    {
     "data": {
      "text/plain": [
       "340.50637292620826"
      ]
     },
     "execution_count": 31,
     "metadata": {},
     "output_type": "execute_result"
    }
   ],
   "source": [
    "# Test Data RMSE\n",
    "math.sqrt(mean_squared_error(ytest,test_predict))"
   ]
  },
  {
   "cell_type": "code",
   "execution_count": 32,
   "metadata": {
    "colab": {
     "base_uri": "https://localhost:8080/",
     "height": 265
    },
    "id": "_tEUd-5C9QoP",
    "outputId": "cf58587c-25fa-4b6a-e7c5-afa5925ceec2"
   },
   "outputs": [
    {
     "data": {
      "image/png": "[encoded data removed]",
      "text/plain": [
       "<Figure size 432x288 with 1 Axes>"
      ]
     },
     "metadata": {
      "needs_background": "light"
     },
     "output_type": "display_data"
    }
   ],
   "source": [
    "# Plotting and shifting predicted outcomes to match the original test data output\n",
    "look_back=100\n",
    "trainPredictPlot = np.empty_like(df1)  # Creates an empty array\n",
    "trainPredictPlot[:, :] = np.nan # Tells that the values are undefined\n",
    "trainPredictPlot[look_back:len(train_predict)+look_back, :] = train_predict\n",
    "# shift test predictions for plotting\n",
    "testPredictPlot = np.empty_like(df1)\n",
    "testPredictPlot[:, :] = np.nan\n",
    "testPredictPlot[len(train_predict)+(look_back*2)+1:len(df1)-1, :] = test_predict\n",
    "# Plot baseline and predictions\n",
    "plt.plot(scaler.inverse_transform(df1),label=\"Original Data\")\n",
    "plt.plot(trainPredictPlot,label=\"Train Predict\")\n",
    "plt.plot(testPredictPlot,label=\"Test Predict\")\n",
    "plt.legend()\n",
    "plt.show()"
   ]
  },
  {
   "cell_type": "code",
   "execution_count": 33,
   "metadata": {
    "colab": {
     "base_uri": "https://localhost:8080/"
    },
    "id": "04ioj-3u9QoQ",
    "outputId": "3ab5bfeb-1795-4d33-be07-6f18b6b23842"
   },
   "outputs": [
    {
     "data": {
      "text/plain": [
       "416"
      ]
     },
     "execution_count": 33,
     "metadata": {},
     "output_type": "execute_result"
    }
   ],
   "source": [
    "len(test_data)"
   ]
  },
  {
   "cell_type": "code",
   "execution_count": 34,
   "metadata": {
    "colab": {
     "base_uri": "https://localhost:8080/"
    },
    "id": "nkqgGfCd9QoR",
    "outputId": "2ebf63f6-df77-46c1-cc3a-a54760159655"
   },
   "outputs": [
    {
     "data": {
      "text/plain": [
       "(1, 100)"
      ]
     },
     "execution_count": 34,
     "metadata": {},
     "output_type": "execute_result"
    }
   ],
   "source": [
    "x_input=test_data[316:].reshape(1,-1) # Row is 1 and columns are unknown\n",
    "x_input.shape\n"
   ]
  },
  {
   "cell_type": "code",
   "execution_count": 35,
   "metadata": {
    "id": "5W8JG65q9QoT"
   },
   "outputs": [],
   "source": [
    "temp_input=list(x_input)  # Each input is in the form of list present in an array\n",
    "temp_input=temp_input[0].tolist() # Converts the array into list"
   ]
  },
  {
   "cell_type": "code",
   "execution_count": 36,
   "metadata": {
    "colab": {
     "base_uri": "https://localhost:8080/"
    },
    "id": "yycGlh869QoT",
    "outputId": "94cefe91-4ed1-44bf-ec60-b33a8c316ce8"
   },
   "outputs": [
    {
     "data": {
      "text/plain": [
       "[0.9359883547327559,\n",
       " 0.9287847118542849,\n",
       " 0.9130337414153478,\n",
       " 0.9448342788892206,\n",
       " 0.9625261272021497,\n",
       " 0.9736115258286056,\n",
       " 0.9980964467005076,\n",
       " 0.9911167512690355,\n",
       " 0.9908928038220364,\n",
       " 0.9864138548820542,\n",
       " 0.9770827112570917,\n",
       " 0.9913780232905345,\n",
       " 0.9719319199761123,\n",
       " 0.9264705882352942,\n",
       " 0.9254628247237979,\n",
       " 0.9099358017318602,\n",
       " 0.9108689160943564,\n",
       " 0.9321812481337712,\n",
       " 0.9378919080322485,\n",
       " 0.9017243953418932,\n",
       " 0.9104956703493579,\n",
       " 0.8751866228724992,\n",
       " 0.8599955210510599,\n",
       " 0.8422290235891312,\n",
       " 0.8047924753657807,\n",
       " 0.8108017318602567,\n",
       " 0.7802329053448791,\n",
       " 0.7782173783218871,\n",
       " 0.765265750970439,\n",
       " 0.8052030456852792,\n",
       " 0.8471931919976112,\n",
       " 0.8564123618990742,\n",
       " 0.8674977605255298,\n",
       " 0.8117348462227529,\n",
       " 0.8283816064496863,\n",
       " 0.8176321289937294,\n",
       " 0.8325246342191699,\n",
       " 0.8609286354135564,\n",
       " 0.8299492385786802,\n",
       " 0.7875111973723499,\n",
       " 0.7891161540758436,\n",
       " 0.8213645864437145,\n",
       " 0.8210286652732159,\n",
       " 0.7815019408778738,\n",
       " 0.7667960585249327,\n",
       " 0.7539937294714838,\n",
       " 0.7216706479546133,\n",
       " 0.7629889519259481,\n",
       " 0.782696327261869,\n",
       " 0.7865407584353539,\n",
       " 0.7667214093759331,\n",
       " 0.7881083905643476,\n",
       " 0.7695954016124216,\n",
       " 0.7510824126604956,\n",
       " 0.7046506419826815,\n",
       " 0.699014631233204,\n",
       " 0.7424604359510301,\n",
       " 0.7285756942370856,\n",
       " 0.7029337115556882,\n",
       " 0.6796805016422813,\n",
       " 0.716930426993132,\n",
       " 0.7623544341594506,\n",
       " 0.777732158853389,\n",
       " 0.8040459838757839,\n",
       " 0.7987832188713047,\n",
       " 0.8244625261272021,\n",
       " 0.8053150194087786,\n",
       " 0.8345028366676619,\n",
       " 0.8333830994326665,\n",
       " 0.8541355628545835,\n",
       " 0.8775753956404897,\n",
       " 0.8622723200955507,\n",
       " 0.8452896386981188,\n",
       " 0.8427142430576291,\n",
       " 0.8705210510600179,\n",
       " 0.8399148999701402,\n",
       " 0.8106524335622574,\n",
       " 0.813787697820245,\n",
       " 0.7953120334428185,\n",
       " 0.764481934905942,\n",
       " 0.7591071961779634,\n",
       " 0.7848611525828606,\n",
       " 0.7553000895789788,\n",
       " 0.7562705285159748,\n",
       " 0.7845252314123619,\n",
       " 0.7656763212899371,\n",
       " 0.7393251716930425,\n",
       " 0.7066661690056733,\n",
       " 0.7222678411466108,\n",
       " 0.6758360704687965,\n",
       " 0.6744177366378021,\n",
       " 0.7164078829501344,\n",
       " 0.6613168109883547,\n",
       " 0.6808375634517767,\n",
       " 0.6821065989847714,\n",
       " 0.7223424902956106,\n",
       " 0.6603836966258585,\n",
       " 0.6463869811884144,\n",
       " 0.601224246043595,\n",
       " 0.6146984174380412]"
      ]
     },
     "execution_count": 36,
     "metadata": {},
     "output_type": "execute_result"
    }
   ],
   "source": [
    "temp_input"
   ]
  },
  {
   "cell_type": "code",
   "execution_count": 37,
   "metadata": {
    "colab": {
     "base_uri": "https://localhost:8080/"
    },
    "id": "DUieMH5RznLc",
    "outputId": "5eec3e22-742c-46e2-b04e-c04043daab9c"
   },
   "outputs": [
    {
     "data": {
      "text/plain": [
       "100"
      ]
     },
     "execution_count": 37,
     "metadata": {},
     "output_type": "execute_result"
    }
   ],
   "source": [
    "len(temp_input)"
   ]
  },
  {
   "cell_type": "code",
   "execution_count": null,
   "metadata": {
    "id": "RN-l_viX9QoU"
   },
   "outputs": [],
   "source": [
    "# demonstrate prediction for next 30 days\n",
    "from numpy import array\n",
    "\n",
    "lst_output=[]\n",
    "n_steps=100\n",
    "i=0\n",
    "while(i<30):\n",
    "    \n",
    "    if(len(temp_input)>100):\n",
    "        x_input=np.array(temp_input[1:])\n",
    "        print(\"{} day input {}\".format(i,x_input))\n",
    "        x_input=x_input.reshape(1,-1)\n",
    "        x_input = x_input.reshape((1, n_steps, 1))\n",
    "        yhat = model.predict(x_input, verbose=0)\n",
    "        print(\"{} day output {}\".format(i,yhat))\n",
    "        temp_input.extend(yhat[0].tolist())\n",
    "        temp_input=temp_input[1:]\n",
    "        lst_output.extend(yhat.tolist())\n",
    "        i=i+1\n",
    "    else:\n",
    "        x_input = x_input.reshape((1, n_steps,1))\n",
    "        yhat = model.predict(x_input, verbose=0)  # Output after previous 100 days of input\n",
    "        print(yhat[0])\n",
    "        temp_input.extend(yhat[0].tolist())\n",
    "        print(len(temp_input))\n",
    "        lst_output.extend(yhat.tolist())\n",
    "        i=i+1\n",
    "    \n",
    "print(lst_output)"
   ]
  },
  {
   "cell_type": "code",
   "execution_count": 40,
   "metadata": {
    "id": "JD4NxQBM9QoX"
   },
   "outputs": [],
   "source": [
    "import matplotlib.pyplot as plt"
   ]
  },
  {
   "cell_type": "code",
   "execution_count": 48,
   "metadata": {
    "colab": {
     "base_uri": "https://localhost:8080/"
    },
    "id": "OphugH7E9QoY",
    "outputId": "751bea6e-1135-40ea-e806-8b0251eb7a55"
   },
   "outputs": [
    {
     "data": {
      "text/plain": [
       "1258"
      ]
     },
     "execution_count": 48,
     "metadata": {},
     "output_type": "execute_result"
    }
   ],
   "source": [
    "len(df1)"
   ]
  },
  {
   "cell_type": "code",
   "execution_count": 49,
   "metadata": {
    "colab": {
     "base_uri": "https://localhost:8080/",
     "height": 285
    },
    "id": "Wfw-9zQs9Qob",
    "outputId": "b9578c8c-e18e-4fcc-a9e4-370a478f31c5"
   },
   "outputs": [
    {
     "data": {
      "text/plain": [
       "<matplotlib.legend.Legend at 0x7fa764b1a850>"
      ]
     },
     "execution_count": 49,
     "metadata": {},
     "output_type": "execute_result"
    },
    {
     "data": {
      "image/png": "[encoded data removed]",
      "text/plain": [
       "<Figure size 432x288 with 1 Axes>"
      ]
     },
     "metadata": {
      "needs_background": "light"
     },
     "output_type": "display_data"
    }
   ],
   "source": [
    "plt.plot(scaler.inverse_transform(lst_output),label='Predicted 30 Days')\n",
    "plt.legend()"
   ]
  },
  {
   "cell_type": "code",
   "execution_count": 47,
   "metadata": {
    "colab": {
     "base_uri": "https://localhost:8080/",
     "height": 282
    },
    "id": "pXWfZ2yg9Qoc",
    "outputId": "68e6e303-62d4-4606-8d8f-349142c981f3"
   },
   "outputs": [
    {
     "data": {
      "text/plain": [
       "[<matplotlib.lines.Line2D at 0x7fa764b35450>]"
      ]
     },
     "execution_count": 47,
     "metadata": {},
     "output_type": "execute_result"
    },
    {
     "data": {
      "image/png": "[encoded data removed]",
      "text/plain": [
       "<Figure size 432x288 with 1 Axes>"
      ]
     },
     "metadata": {
      "needs_background": "light"
     },
     "output_type": "display_data"
    }
   ],
   "source": [
    "# Complete Output\n",
    "df3=df1.tolist()\n",
    "df3.extend(lst_output)\n",
    "plt.plot(df3[1200:])"
   ]
  },
  {
   "cell_type": "code",
   "execution_count": 44,
   "metadata": {
    "id": "T3KCksWx9Qoc"
   },
   "outputs": [],
   "source": [
    "df3=scaler.inverse_transform(df3).tolist()"
   ]
  },
  {
   "cell_type": "code",
   "execution_count": 45,
   "metadata": {
    "colab": {
     "base_uri": "https://localhost:8080/",
     "height": 282
    },
    "id": "mMMS-39t9Qod",
    "outputId": "121a332f-c4bf-473c-da7e-e51cb091bf3a"
   },
   "outputs": [
    {
     "data": {
      "text/plain": [
       "[<matplotlib.lines.Line2D at 0x7fa764c3ea90>]"
      ]
     },
     "execution_count": 45,
     "metadata": {},
     "output_type": "execute_result"
    },
    {
     "data": {
      "image/png": "[encoded data removed]",
      "text/plain": [
       "<Figure size 432x288 with 1 Axes>"
      ]
     },
     "metadata": {
      "needs_background": "light"
     },
     "output_type": "display_data"
    }
   ],
   "source": [
    "plt.plot(df3)"
   ]
  }
 ],
 "metadata": {
  "colab": {
   "collapsed_sections": [],
   "name": "Project.ipynb",
   "provenance": []
  },
  "kernelspec": {
   "display_name": "Python 3 (ipykernel)",
   "language": "python",
   "name": "python3"
  },
  "language_info": {
   "codemirror_mode": {
    "name": "ipython",
    "version": 3
   },
   "file_extension": ".py",
   "mimetype": "text/x-python",
   "name": "python",
   "nbconvert_exporter": "python",
   "pygments_lexer": "ipython3",
   "version": "3.7.0"
  }
 },
 "nbformat": 4,
 "nbformat_minor": 1
}
